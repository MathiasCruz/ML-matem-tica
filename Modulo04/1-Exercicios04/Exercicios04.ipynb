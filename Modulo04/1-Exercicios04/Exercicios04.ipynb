{
 "cells": [
  {
   "attachments": {},
   "cell_type": "markdown",
   "metadata": {},
   "source": [
    "# <font color='blue'>Data Science Academy</font>\n",
    "# <font color='blue'>Matemática Para Machine Learning</font>"
   ]
  },
  {
   "attachments": {},
   "cell_type": "markdown",
   "metadata": {},
   "source": [
    "## Lista de Exercícios  - Capítulo 5"
   ]
  },
  {
   "attachments": {},
   "cell_type": "markdown",
   "metadata": {},
   "source": [
    "O objetivo desta lista de exercícios é você praticar os principais conceitos estudados neste capítulo, ao mesmo tempo que desenvolve suas habilidades em lógica de programação com a linguagem Python. \n",
    "\n",
    "Caso tenha dúvidas, isso é absolutamente normal e faça um trabalho de pesquisa a fim de relembrar o formato das operações matemáticas.\n",
    "\n",
    "Quando encontrar o formato de uma operação que resolva o exercício proposto, use a linguagem Python para representar esta operação. Em essência, é assim que aplicamos Matemática Para Machine Learning, construindo algoritmos e representando esses algoritmos em linguagem de programação."
   ]
  },
  {
   "attachments": {},
   "cell_type": "markdown",
   "metadata": {},
   "source": [
    "A maioria das pessoas considera a Matemática e a Física, assustadoras bestas das quais é melhor manter a distância. Computadores, no entanto, podem nos ajudar a domar a complexidade e a aritmética tediosa das manipulações associadas a esses assuntos. De fato, Matemática e Física são muito mais acessíveis, uma vez que você tem o poder de computadores do seu lado.\n",
    "\n",
    "Divirta-se!!"
   ]
  },
  {
   "attachments": {},
   "cell_type": "markdown",
   "metadata": {},
   "source": [
    "### Exercício 1 - Crie um algoritmo em Python para a multiplicação das duas matrizes abaixo. Seu algoritmo deve checar se as matrizes atendem às condições de multiplicação de matrizes estudadas neste capítulo.\n",
    "\n",
    "ATENÇÃO: NÃO use o NumPy (seria fácil demais). O objetivo é você testar sua lógica de programação para operação com matrizes."
   ]
  },
  {
   "cell_type": "code",
   "execution_count": 28,
   "metadata": {},
   "outputs": [
    {
     "name": "stdout",
     "output_type": "stream",
     "text": [
      "[[0, 0], [0, 0], [0, 0], [0, 0]]\n",
      "\n",
      "Matriz resultante da multiplicação entre as duas matrizes:  [[12, 18], [27, 42], [42, 66], [57, 90]]\n"
     ]
    }
   ],
   "source": [
    "# Solução\n",
    "\n",
    "# Matrizes\n",
    "x = [[1,2,3],[4,5,6],[7,8,9],[10,11,12]]\n",
    "y = [[1,2],[1,2],[3,4]]\n",
    "\n",
    "def matrixmult (A, B):\n",
    "    if len(A[0]) == len(B):\n",
    "        C =[[0] * len(B[0]) for i in range(len(A))]\n",
    "        for k in range(0,len(C)):#numero de linhas da matriz resultante\n",
    "            for i in range(0,len(B[0])):#numero de colunas da matriz B \n",
    "                for j in range(0,(len(B))):#numero de linhas da matriz B\n",
    "                    C[k][i] += A[k][j] * B[j][i]\n",
    "        return C                    \n",
    "       # Solução aqui\n",
    "\n",
    "matriz_resultante = matrixmult(x, y)\n",
    "print(\"\\nMatriz resultante da multiplicação entre as duas matrizes: \", matriz_resultante)"
   ]
  },
  {
   "attachments": {},
   "cell_type": "markdown",
   "metadata": {},
   "source": [
    "### Exercício 2 - Agora sim, usando NumPy, verifique se o algoritmo criado no exercício anterior realmente está correto validando o resultado com o que o NumPy oferece para multiplicação de matrizes."
   ]
  },
  {
   "cell_type": "code",
   "execution_count": 27,
   "metadata": {},
   "outputs": [
    {
     "name": "stdout",
     "output_type": "stream",
     "text": [
      "[[12 18]\n",
      " [27 42]\n",
      " [42 66]\n",
      " [57 90]]\n"
     ]
    }
   ],
   "source": [
    "# Solução\n",
    "\n",
    "import numpy as np\n",
    "\n",
    "# Matrizes\n",
    "x = [[1,2,3],[4,5,6],[7,8,9],[10,11,12]]\n",
    "y = [[1,2],[1,2],[3,4]]\n",
    "\n",
    "# Converte as listas Python para matrizes NumPy\n",
    "a = np.array(x)\n",
    "b = np.array(y)\n",
    "print(a.dot(b))\n",
    "# Resultado\n"
   ]
  },
  {
   "attachments": {},
   "cell_type": "markdown",
   "metadata": {},
   "source": [
    "### Exercício 3 - Considerando as duas matrizes abaixo, crie um algoritmo para multiplicar as matrizes.\n",
    "\n",
    "Dica: Use loops aninhados para compreender a regra matemática e traduzir isso em linguagem de programação."
   ]
  },
  {
   "cell_type": "code",
   "execution_count": 9,
   "metadata": {},
   "outputs": [
    {
     "name": "stdout",
     "output_type": "stream",
     "text": [
      "\n",
      "Matriz resultante da multiplicação entre as duas matrizes:  [[114, 160, 60, 27], [74, 97, 73, 14], [119, 157, 112, 23]]\n"
     ]
    }
   ],
   "source": [
    "# Solução\n",
    "\n",
    "# Matriz 3x3 \n",
    "X = [[12,7,3],\n",
    "    [4 ,5,6],\n",
    "    [7 ,8,9]]\n",
    "\n",
    "# Matriz 3x4\n",
    "Y = [[5,8,1,2],\n",
    "    [6,7,3,0],\n",
    "    [4,5,9,1]]\n",
    "\n",
    "def matrixmult (A, B):\n",
    "    if len(A[0]) == len(B):\n",
    "        C =[[0] * len(B[0]) for i in range(len(A))]\n",
    "        for k in range(0,len(C)):#numero de linhas da matriz resultante\n",
    "            for i in range(0,len(B[0])):#numero de colunas da matriz B \n",
    "                for j in range(0,(len(B))):#numero de linhas da matriz B\n",
    "                    C[k][i] += A[k][j] * B[j][i]\n",
    "        return C\n",
    "    print(\"As dimensões das matrizes são diferentes, por tanto não existe multiplicação\")\n",
    "    return(A)\n",
    "    \n",
    "matriz_resultante = matrixmult(X, Y)\n",
    "print(\"\\nMatriz resultante da multiplicação entre as duas matrizes: \", matriz_resultante)   "
   ]
  },
  {
   "attachments": {},
   "cell_type": "markdown",
   "metadata": {},
   "source": [
    "### Exercício 4 - Realize a mesma operação anterior, mas desta vez usando list comprehension."
   ]
  },
  {
   "cell_type": "code",
   "execution_count": 16,
   "metadata": {},
   "outputs": [
    {
     "name": "stdout",
     "output_type": "stream",
     "text": [
      "\n",
      "Matriz resultante da multiplicação entre as duas matrizes:  [[114 160  60  27]\n",
      " [ 74  97  73  14]\n",
      " [119 157 112  23]]\n"
     ]
    }
   ],
   "source": [
    "# Solução\n",
    "import numpy as np\n",
    "# Matriz 3x3 \n",
    "X = [[12,7,3],\n",
    "    [4 ,5,6],\n",
    "    [7 ,8,9]]\n",
    "\n",
    "# Matriz 3x4\n",
    "Y = [[5,8,1,2],\n",
    "    [6,7,3,0],\n",
    "    [4,5,9,1]]\n",
    "\n",
    "def matrixmult (A, B):\n",
    "    rows_A = len(A)\n",
    "    cols_A = len(A[0])\n",
    "    rows_B = len(B)\n",
    "    cols_B = len(B[0])\n",
    "\n",
    "    if cols_A != rows_B:\n",
    "        print(\"Não é possível multiplicar essas duas matrizes. Dimensões incorretas.\")\n",
    "        return\n",
    "\n",
    "    # Crie a matriz de resultados como uma matriz nula\n",
    "    # Dimensões devem ser rows_A x cols_B\n",
    "    C = np.array([[sum(a*b for a,b in zip(a_rows, b_col)) for b_col in zip(*B)] for a_rows in A])\n",
    "    return C\n",
    "\n",
    "matriz_resultante = matrixmult(X, Y)\n",
    "print(\"\\nMatriz resultante da multiplicação entre as duas matrizes: \", matriz_resultante)   \n"
   ]
  },
  {
   "attachments": {},
   "cell_type": "markdown",
   "metadata": {},
   "source": [
    "### Exercício 5 - Considere as duas matrizes abaixo, x e y, e as duas diferentes soluções apresentadas para a multiplicação entre elas. Para cada execução, nós usamos o operador mágico %timeit para medir o tempo de execução. Você saberia explicar porque o tempo de execução é muito diferente? \n",
    "\n",
    "Dica: Essa costuma ser uma pergunta em entrevista para posição de Cientista de Dados."
   ]
  },
  {
   "cell_type": "code",
   "execution_count": 1,
   "metadata": {},
   "outputs": [
    {
     "name": "stdout",
     "output_type": "stream",
     "text": [
      "\n",
      "Tempo de execução na multiplicação customizada:\n",
      "4.61 µs ± 49.4 ns per loop (mean ± std. dev. of 7 runs, 100,000 loops each)\n",
      "\n",
      "Tempo de execução na multiplicação via NumPy:\n",
      "4.14 µs ± 54.3 ns per loop (mean ± std. dev. of 7 runs, 100,000 loops each)\n"
     ]
    }
   ],
   "source": [
    "# Solução\n",
    "\n",
    "import numpy as np\n",
    "\n",
    "x = [[1,2,3],[4,5,6],[7,8,9]]\n",
    "y = [[1,2,3],[1,2,3],[3,4,5]]\n",
    "\n",
    "def matrixmult (A, B):\n",
    "    rows_A = len(A)\n",
    "    cols_A = len(A[0])\n",
    "    rows_B = len(B)\n",
    "    cols_B = len(B[0])\n",
    "\n",
    "    if cols_A != rows_B:\n",
    "        print(\"Não é possível multiplicar essas duas matrizes. Dimensões incorretas.\")\n",
    "        return\n",
    "\n",
    "    # Crie a matriz de resultados como uma matriz nula\n",
    "    # Dimensões devem ser rows_A x cols_B\n",
    "    C = [[0 for row in range(cols_B)] for col in range(rows_A)]\n",
    "\n",
    "    for i in range(rows_A):\n",
    "        for j in range(cols_B):\n",
    "            for k in range(cols_A):\n",
    "                C[i][j] += A[i][k] * B[k][j]\n",
    "    return C\n",
    "\n",
    "# Tempo de execução na multiplicação customizada\n",
    "print(\"\\nTempo de execução na multiplicação customizada:\")\n",
    "%timeit matrixmult(x, y)\n",
    "\n",
    "\n",
    "# Tempo de execução na multiplicação via NumPy\n",
    "print(\"\\nTempo de execução na multiplicação via NumPy:\")\n",
    "%timeit np.multiply(x, y)\n",
    "# Devido a função multuply ter mais parametros e mais funcionalidades, isso tome mais tempo de execução do que um loop customizado que só tem um objetivo"
   ]
  },
  {
   "attachments": {},
   "cell_type": "markdown",
   "metadata": {},
   "source": [
    "### Exercício 6 - Calcule o determinante da matriz abaixo, usando NumPy."
   ]
  },
  {
   "cell_type": "code",
   "execution_count": 3,
   "metadata": {},
   "outputs": [
    {
     "name": "stdout",
     "output_type": "stream",
     "text": [
      "-2.0000000000000004\n"
     ]
    }
   ],
   "source": [
    "# Solução\n",
    "\n",
    "import numpy\n",
    "\n",
    "# Matriz\n",
    "M = [[1, 2], [3, 4]]\n",
    "# Determinante\n",
    "print(np.linalg.det(M))\n",
    "\n"
   ]
  },
  {
   "attachments": {},
   "cell_type": "markdown",
   "metadata": {},
   "source": [
    "### Exercício 7 - Calcule a inversa da matriz abaixo usando NumPy."
   ]
  },
  {
   "cell_type": "code",
   "execution_count": 4,
   "metadata": {},
   "outputs": [
    {
     "name": "stdout",
     "output_type": "stream",
     "text": [
      "\n",
      "Solução 1: [[-2.5  1.5]\n",
      " [ 2.  -1. ]]\n"
     ]
    }
   ],
   "source": [
    "# Solução\n",
    "\n",
    "# Lista\n",
    "x = [[2,3],[4,5]]\n",
    "\n",
    "# Convertendo para matriz NumPy\n",
    "nx = np.array(x)\n",
    "# Solução 1\n",
    "print(\"\\nSolução 1:\", np.linalg.inv(nx))\n"
   ]
  },
  {
   "cell_type": "code",
   "execution_count": null,
   "metadata": {},
   "outputs": [],
   "source": [
    "# Solução 2\n",
    "print(\"\\nSolução 2:\")\n"
   ]
  },
  {
   "attachments": {},
   "cell_type": "markdown",
   "metadata": {},
   "source": [
    "### Exercício 8 - O TensorFlow é o principal framework para Deep Learning. Usando uma de suas funções, encontre a inversa da matriz abaixo.\n",
    "\n",
    "Referência: https://www.tensorflow.org/api_guides/python/math_ops#Matrix_Math_Functions\n",
    "\n",
    "Dica: Pode ser necessário instalar o TensorFlow com o comando abaixo (descomente a linha e execute a célula)"
   ]
  },
  {
   "cell_type": "code",
   "execution_count": 5,
   "metadata": {},
   "outputs": [
    {
     "name": "stdout",
     "output_type": "stream",
     "text": [
      "Collecting tensorflow\n",
      "  Downloading tensorflow-2.12.0-cp310-cp310-manylinux_2_17_x86_64.manylinux2014_x86_64.whl (585.9 MB)\n",
      "\u001b[2K     \u001b[90m━━━━━━━━━━━━━━━━━━━━━━━━━━━━━━━━━━━━━\u001b[0m \u001b[32m585.9/585.9 MB\u001b[0m \u001b[31m365.1 kB/s\u001b[0m eta \u001b[36m0:00:00\u001b[0m00:01\u001b[0m00:01\u001b[0m\n",
      "\u001b[?25hCollecting absl-py>=1.0.0\n",
      "  Downloading absl_py-1.4.0-py3-none-any.whl (126 kB)\n",
      "\u001b[2K     \u001b[90m━━━━━━━━━━━━━━━━━━━━━━━━━━━━━━━━━━━━━━\u001b[0m \u001b[32m126.5/126.5 kB\u001b[0m \u001b[31m61.2 MB/s\u001b[0m eta \u001b[36m0:00:00\u001b[0m\n",
      "\u001b[?25hCollecting tensorboard<2.13,>=2.12\n",
      "  Downloading tensorboard-2.12.3-py3-none-any.whl (5.6 MB)\n",
      "\u001b[2K     \u001b[90m━━━━━━━━━━━━━━━━━━━━━━━━━━━━━━━━━━━━━━━━\u001b[0m \u001b[32m5.6/5.6 MB\u001b[0m \u001b[31m84.8 MB/s\u001b[0m eta \u001b[36m0:00:00\u001b[0mta \u001b[36m0:00:01\u001b[0m\n",
      "\u001b[?25hCollecting jax>=0.3.15\n",
      "  Downloading jax-0.4.11.tar.gz (1.3 MB)\n",
      "\u001b[2K     \u001b[90m━━━━━━━━━━━━━━━━━━━━━━━━━━━━━━━━━━━━━━━━\u001b[0m \u001b[32m1.3/1.3 MB\u001b[0m \u001b[31m89.3 MB/s\u001b[0m eta \u001b[36m0:00:00\u001b[0m\n",
      "\u001b[?25h  Installing build dependencies ... \u001b[?25ldone\n",
      "\u001b[?25h  Getting requirements to build wheel ... \u001b[?25ldone\n",
      "\u001b[?25h  Preparing metadata (pyproject.toml) ... \u001b[?25ldone\n",
      "\u001b[?25hCollecting termcolor>=1.1.0\n",
      "  Downloading termcolor-2.3.0-py3-none-any.whl (6.9 kB)\n",
      "Requirement already satisfied: setuptools in /home/mathias/anaconda3/lib/python3.10/site-packages (from tensorflow) (65.6.3)\n",
      "Collecting tensorflow-estimator<2.13,>=2.12.0\n",
      "  Downloading tensorflow_estimator-2.12.0-py2.py3-none-any.whl (440 kB)\n",
      "\u001b[2K     \u001b[90m━━━━━━━━━━━━━━━━━━━━━━━━━━━━━━━━━━━━━━\u001b[0m \u001b[32m440.7/440.7 kB\u001b[0m \u001b[31m82.1 MB/s\u001b[0m eta \u001b[36m0:00:00\u001b[0m\n",
      "\u001b[?25hRequirement already satisfied: h5py>=2.9.0 in /home/mathias/anaconda3/lib/python3.10/site-packages (from tensorflow) (3.7.0)\n",
      "Requirement already satisfied: packaging in /home/mathias/anaconda3/lib/python3.10/site-packages (from tensorflow) (22.0)\n",
      "Collecting keras<2.13,>=2.12.0\n",
      "  Downloading keras-2.12.0-py2.py3-none-any.whl (1.7 MB)\n",
      "\u001b[2K     \u001b[90m━━━━━━━━━━━━━━━━━━━━━━━━━━━━━━━━━━━━━━━━\u001b[0m \u001b[32m1.7/1.7 MB\u001b[0m \u001b[31m84.3 MB/s\u001b[0m eta \u001b[36m0:00:00\u001b[0m\n",
      "\u001b[?25hCollecting google-pasta>=0.1.1\n",
      "  Downloading google_pasta-0.2.0-py3-none-any.whl (57 kB)\n",
      "\u001b[2K     \u001b[90m━━━━━━━━━━━━━━━━━━━━━━━━━━━━━━━━━━━━━━━━\u001b[0m \u001b[32m57.5/57.5 kB\u001b[0m \u001b[31m18.2 MB/s\u001b[0m eta \u001b[36m0:00:00\u001b[0m\n",
      "\u001b[?25hCollecting libclang>=13.0.0\n",
      "  Downloading libclang-16.0.0-py2.py3-none-manylinux2010_x86_64.whl (22.9 MB)\n",
      "\u001b[2K     \u001b[90m━━━━━━━━━━━━━━━━━━━━━━━━━━━━━━━━━━━━━━━━\u001b[0m \u001b[32m22.9/22.9 MB\u001b[0m \u001b[31m58.9 MB/s\u001b[0m eta \u001b[36m0:00:00\u001b[0m00:01\u001b[0m00:01\u001b[0m\n",
      "\u001b[?25hCollecting protobuf!=4.21.0,!=4.21.1,!=4.21.2,!=4.21.3,!=4.21.4,!=4.21.5,<5.0.0dev,>=3.20.3\n",
      "  Downloading protobuf-4.23.2-cp37-abi3-manylinux2014_x86_64.whl (304 kB)\n",
      "\u001b[2K     \u001b[90m━━━━━━━━━━━━━━━━━━━━━━━━━━━━━━━━━━━━━━\u001b[0m \u001b[32m304.5/304.5 kB\u001b[0m \u001b[31m87.0 MB/s\u001b[0m eta \u001b[36m0:00:00\u001b[0m\n",
      "\u001b[?25hRequirement already satisfied: six>=1.12.0 in /home/mathias/anaconda3/lib/python3.10/site-packages (from tensorflow) (1.16.0)\n",
      "Collecting astunparse>=1.6.0\n",
      "  Downloading astunparse-1.6.3-py2.py3-none-any.whl (12 kB)\n",
      "Collecting grpcio<2.0,>=1.24.3\n",
      "  Downloading grpcio-1.54.2-cp310-cp310-manylinux_2_17_x86_64.manylinux2014_x86_64.whl (5.1 MB)\n",
      "\u001b[2K     \u001b[90m━━━━━━━━━━━━━━━━━━━━━━━━━━━━━━━━━━━━━━━━\u001b[0m \u001b[32m5.1/5.1 MB\u001b[0m \u001b[31m70.5 MB/s\u001b[0m eta \u001b[36m0:00:00\u001b[0m00:01\u001b[0m:00:01\u001b[0m\n",
      "\u001b[?25hCollecting gast<=0.4.0,>=0.2.1\n",
      "  Downloading gast-0.4.0-py3-none-any.whl (9.8 kB)\n",
      "Requirement already satisfied: wrapt<1.15,>=1.11.0 in /home/mathias/anaconda3/lib/python3.10/site-packages (from tensorflow) (1.14.1)\n",
      "Collecting flatbuffers>=2.0\n",
      "  Downloading flatbuffers-23.5.26-py2.py3-none-any.whl (26 kB)\n",
      "Collecting tensorflow-io-gcs-filesystem>=0.23.1\n",
      "  Downloading tensorflow_io_gcs_filesystem-0.32.0-cp310-cp310-manylinux_2_12_x86_64.manylinux2010_x86_64.whl (2.4 MB)\n",
      "\u001b[2K     \u001b[90m━━━━━━━━━━━━━━━━━━━━━━━━━━━━━━━━━━━━━━━━\u001b[0m \u001b[32m2.4/2.4 MB\u001b[0m \u001b[31m87.4 MB/s\u001b[0m eta \u001b[36m0:00:00\u001b[0m\n",
      "\u001b[?25hRequirement already satisfied: typing-extensions>=3.6.6 in /home/mathias/anaconda3/lib/python3.10/site-packages (from tensorflow) (4.4.0)\n",
      "Collecting opt-einsum>=2.3.2\n",
      "  Downloading opt_einsum-3.3.0-py3-none-any.whl (65 kB)\n",
      "\u001b[2K     \u001b[90m━━━━━━━━━━━━━━━━━━━━━━━━━━━━━━━━━━━━━━━━\u001b[0m \u001b[32m65.5/65.5 kB\u001b[0m \u001b[31m28.1 MB/s\u001b[0m eta \u001b[36m0:00:00\u001b[0m\n",
      "\u001b[?25hRequirement already satisfied: numpy<1.24,>=1.22 in /home/mathias/anaconda3/lib/python3.10/site-packages (from tensorflow) (1.23.5)\n",
      "Requirement already satisfied: wheel<1.0,>=0.23.0 in /home/mathias/anaconda3/lib/python3.10/site-packages (from astunparse>=1.6.0->tensorflow) (0.38.4)\n",
      "Collecting ml-dtypes>=0.1.0\n",
      "  Downloading ml_dtypes-0.1.0-cp310-cp310-manylinux_2_17_x86_64.manylinux2014_x86_64.whl (190 kB)\n",
      "\u001b[2K     \u001b[90m━━━━━━━━━━━━━━━━━━━━━━━━━━━━━━━━━━━━━━\u001b[0m \u001b[32m190.6/190.6 kB\u001b[0m \u001b[31m63.2 MB/s\u001b[0m eta \u001b[36m0:00:00\u001b[0m\n",
      "\u001b[?25hRequirement already satisfied: scipy>=1.7 in /home/mathias/anaconda3/lib/python3.10/site-packages (from jax>=0.3.15->tensorflow) (1.10.0)\n",
      "Collecting google-auth<3,>=1.6.3\n",
      "  Downloading google_auth-2.19.1-py2.py3-none-any.whl (181 kB)\n",
      "\u001b[2K     \u001b[90m━━━━━━━━━━━━━━━━━━━━━━━━━━━━━━━━━━━━━━\u001b[0m \u001b[32m181.3/181.3 kB\u001b[0m \u001b[31m63.6 MB/s\u001b[0m eta \u001b[36m0:00:00\u001b[0m\n",
      "\u001b[?25hRequirement already satisfied: werkzeug>=1.0.1 in /home/mathias/anaconda3/lib/python3.10/site-packages (from tensorboard<2.13,>=2.12->tensorflow) (2.2.2)\n",
      "Collecting google-auth-oauthlib<1.1,>=0.5\n",
      "  Downloading google_auth_oauthlib-1.0.0-py2.py3-none-any.whl (18 kB)\n",
      "Requirement already satisfied: markdown>=2.6.8 in /home/mathias/anaconda3/lib/python3.10/site-packages (from tensorboard<2.13,>=2.12->tensorflow) (3.4.1)\n",
      "Requirement already satisfied: requests<3,>=2.21.0 in /home/mathias/anaconda3/lib/python3.10/site-packages (from tensorboard<2.13,>=2.12->tensorflow) (2.28.1)\n",
      "Collecting tensorboard-data-server<0.8.0,>=0.7.0\n",
      "  Downloading tensorboard_data_server-0.7.0-py3-none-manylinux2014_x86_64.whl (6.6 MB)\n",
      "\u001b[2K     \u001b[90m━━━━━━━━━━━━━━━━━━━━━━━━━━━━━━━━━━━━━━━━\u001b[0m \u001b[32m6.6/6.6 MB\u001b[0m \u001b[31m71.7 MB/s\u001b[0m eta \u001b[36m0:00:00\u001b[0m00:01\u001b[0m:00:01\u001b[0m\n",
      "\u001b[?25hRequirement already satisfied: pyasn1-modules>=0.2.1 in /home/mathias/anaconda3/lib/python3.10/site-packages (from google-auth<3,>=1.6.3->tensorboard<2.13,>=2.12->tensorflow) (0.2.8)\n",
      "Collecting rsa<5,>=3.1.4\n",
      "  Downloading rsa-4.9-py3-none-any.whl (34 kB)\n",
      "Collecting cachetools<6.0,>=2.0.0\n",
      "  Downloading cachetools-5.3.1-py3-none-any.whl (9.3 kB)\n",
      "Requirement already satisfied: urllib3<2.0 in /home/mathias/anaconda3/lib/python3.10/site-packages (from google-auth<3,>=1.6.3->tensorboard<2.13,>=2.12->tensorflow) (1.26.14)\n",
      "Collecting requests-oauthlib>=0.7.0\n",
      "  Downloading requests_oauthlib-1.3.1-py2.py3-none-any.whl (23 kB)\n",
      "Requirement already satisfied: charset-normalizer<3,>=2 in /home/mathias/anaconda3/lib/python3.10/site-packages (from requests<3,>=2.21.0->tensorboard<2.13,>=2.12->tensorflow) (2.0.4)\n",
      "Requirement already satisfied: certifi>=2017.4.17 in /home/mathias/anaconda3/lib/python3.10/site-packages (from requests<3,>=2.21.0->tensorboard<2.13,>=2.12->tensorflow) (2022.12.7)\n",
      "Requirement already satisfied: idna<4,>=2.5 in /home/mathias/anaconda3/lib/python3.10/site-packages (from requests<3,>=2.21.0->tensorboard<2.13,>=2.12->tensorflow) (3.4)\n",
      "Requirement already satisfied: MarkupSafe>=2.1.1 in /home/mathias/anaconda3/lib/python3.10/site-packages (from werkzeug>=1.0.1->tensorboard<2.13,>=2.12->tensorflow) (2.1.1)\n",
      "Requirement already satisfied: pyasn1<0.5.0,>=0.4.6 in /home/mathias/anaconda3/lib/python3.10/site-packages (from pyasn1-modules>=0.2.1->google-auth<3,>=1.6.3->tensorboard<2.13,>=2.12->tensorflow) (0.4.8)\n",
      "Collecting oauthlib>=3.0.0\n",
      "  Downloading oauthlib-3.2.2-py3-none-any.whl (151 kB)\n",
      "\u001b[2K     \u001b[90m━━━━━━━━━━━━━━━━━━━━━━━━━━━━━━━━━━━━━━\u001b[0m \u001b[32m151.7/151.7 kB\u001b[0m \u001b[31m51.8 MB/s\u001b[0m eta \u001b[36m0:00:00\u001b[0m\n",
      "\u001b[?25hBuilding wheels for collected packages: jax\n",
      "  Building wheel for jax (pyproject.toml) ... \u001b[?25ldone\n",
      "\u001b[?25h  Created wheel for jax: filename=jax-0.4.11-py3-none-any.whl size=1487877 sha256=6152d5eebfb8636f16f8a7f6d1d4e3118a9744eea2c19dbf1fc001bbc8a2741b\n",
      "  Stored in directory: /home/mathias/.cache/pip/wheels/60/ba/dd/b66da6df64fba82ddb4401361647a80bb117e33b1fbca4d0b5\n",
      "Successfully built jax\n",
      "Installing collected packages: libclang, flatbuffers, termcolor, tensorflow-io-gcs-filesystem, tensorflow-estimator, tensorboard-data-server, rsa, protobuf, opt-einsum, oauthlib, ml-dtypes, keras, grpcio, google-pasta, gast, cachetools, astunparse, absl-py, requests-oauthlib, jax, google-auth, google-auth-oauthlib, tensorboard, tensorflow\n",
      "Successfully installed absl-py-1.4.0 astunparse-1.6.3 cachetools-5.3.1 flatbuffers-23.5.26 gast-0.4.0 google-auth-2.19.1 google-auth-oauthlib-1.0.0 google-pasta-0.2.0 grpcio-1.54.2 jax-0.4.11 keras-2.12.0 libclang-16.0.0 ml-dtypes-0.1.0 oauthlib-3.2.2 opt-einsum-3.3.0 protobuf-4.23.2 requests-oauthlib-1.3.1 rsa-4.9 tensorboard-2.12.3 tensorboard-data-server-0.7.0 tensorflow-2.12.0 tensorflow-estimator-2.12.0 tensorflow-io-gcs-filesystem-0.32.0 termcolor-2.3.0\n",
      "Note: you may need to restart the kernel to use updated packages.\n"
     ]
    }
   ],
   "source": [
    "%pip install tensorflow"
   ]
  },
  {
   "cell_type": "code",
   "execution_count": 13,
   "metadata": {},
   "outputs": [
    {
     "name": "stdout",
     "output_type": "stream",
     "text": [
      "tf.Tensor(\n",
      "[[-2.5  1.5]\n",
      " [ 2.  -1. ]], shape=(2, 2), dtype=float32)\n"
     ]
    }
   ],
   "source": [
    "# Solução\n",
    "import tensorflow as tf\n",
    "\n",
    "x = [[2.0,3.0],[4.0,5.0]]\n",
    "print(tf.linalg.inv(x))"
   ]
  },
  {
   "attachments": {},
   "cell_type": "markdown",
   "metadata": {},
   "source": [
    "### Exercício 9 (Desafio) - Crie um algoritmo de Machine Learning de Regressão Linear Simples, usando NumPy, que mostre a relação entre duas variáveis x e y (que são criadas abaixo usando valores aleatórios). Seu script deve conter as operações matemáticas de multiplicação de matrizes estudadas neste capítulo.\n",
    "\n",
    "Dica: Deixamos algumas linhas de código para ajudá-lo nesta tarefa."
   ]
  },
  {
   "cell_type": "code",
   "execution_count": 1,
   "metadata": {},
   "outputs": [
    {
     "name": "stdout",
     "output_type": "stream",
     "text": [
      "(200,)\n",
      "(200,)\n"
     ]
    },
    {
     "data": {
      "text/plain": [
       "<matplotlib.legend.Legend at 0x7f41746e9300>"
      ]
     },
     "execution_count": 1,
     "metadata": {},
     "output_type": "execute_result"
    },
    {
     "data": {
      "image/png": "[encoded data removed]",
      "text/plain": [
       "<Figure size 640x480 with 1 Axes>"
      ]
     },
     "metadata": {},
     "output_type": "display_data"
    }
   ],
   "source": [
    "# Solução\n",
    "\n",
    "# Imports\n",
    "import numpy as np\n",
    "%matplotlib inline\n",
    "import matplotlib.pyplot as plt\n",
    "import warnings\n",
    "warnings.filterwarnings('ignore')\n",
    "\n",
    "# Variáveis x e y\n",
    "num_points = 200\n",
    "X_entrada = np.linspace(-2, 2, num_points)\n",
    "y_saida = X_entrada + np.random.normal(0, 1, num_points)\n",
    "\n",
    "# Print shapes\n",
    "print(np.shape(X_entrada))\n",
    "print(np.shape(y_saida))\n",
    "\n",
    "# Plot\n",
    "plt.plot(X_entrada, y_saida, 'r*', label='Dados')\n",
    "plt.legend(loc=\"upper left\", bbox_to_anchor=(1,1))"
   ]
  },
  {
   "cell_type": "code",
   "execution_count": 2,
   "metadata": {},
   "outputs": [
    {
     "data": {
      "text/plain": [
       "array([-2.        , -1.9798995 , -1.95979899, -1.93969849, -1.91959799,\n",
       "       -1.89949749, -1.87939698, -1.85929648, -1.83919598, -1.81909548,\n",
       "       -1.79899497, -1.77889447, -1.75879397, -1.73869347, -1.71859296,\n",
       "       -1.69849246, -1.67839196, -1.65829146, -1.63819095, -1.61809045,\n",
       "       -1.59798995, -1.57788945, -1.55778894, -1.53768844, -1.51758794,\n",
       "       -1.49748744, -1.47738693, -1.45728643, -1.43718593, -1.41708543,\n",
       "       -1.39698492, -1.37688442, -1.35678392, -1.33668342, -1.31658291,\n",
       "       -1.29648241, -1.27638191, -1.25628141, -1.2361809 , -1.2160804 ,\n",
       "       -1.1959799 , -1.1758794 , -1.15577889, -1.13567839, -1.11557789,\n",
       "       -1.09547739, -1.07537688, -1.05527638, -1.03517588, -1.01507538,\n",
       "       -0.99497487, -0.97487437, -0.95477387, -0.93467337, -0.91457286,\n",
       "       -0.89447236, -0.87437186, -0.85427136, -0.83417085, -0.81407035,\n",
       "       -0.79396985, -0.77386935, -0.75376884, -0.73366834, -0.71356784,\n",
       "       -0.69346734, -0.67336683, -0.65326633, -0.63316583, -0.61306533,\n",
       "       -0.59296482, -0.57286432, -0.55276382, -0.53266332, -0.51256281,\n",
       "       -0.49246231, -0.47236181, -0.45226131, -0.4321608 , -0.4120603 ,\n",
       "       -0.3919598 , -0.3718593 , -0.35175879, -0.33165829, -0.31155779,\n",
       "       -0.29145729, -0.27135678, -0.25125628, -0.23115578, -0.21105528,\n",
       "       -0.19095477, -0.17085427, -0.15075377, -0.13065327, -0.11055276,\n",
       "       -0.09045226, -0.07035176, -0.05025126, -0.03015075, -0.01005025,\n",
       "        0.01005025,  0.03015075,  0.05025126,  0.07035176,  0.09045226,\n",
       "        0.11055276,  0.13065327,  0.15075377,  0.17085427,  0.19095477,\n",
       "        0.21105528,  0.23115578,  0.25125628,  0.27135678,  0.29145729,\n",
       "        0.31155779,  0.33165829,  0.35175879,  0.3718593 ,  0.3919598 ,\n",
       "        0.4120603 ,  0.4321608 ,  0.45226131,  0.47236181,  0.49246231,\n",
       "        0.51256281,  0.53266332,  0.55276382,  0.57286432,  0.59296482,\n",
       "        0.61306533,  0.63316583,  0.65326633,  0.67336683,  0.69346734,\n",
       "        0.71356784,  0.73366834,  0.75376884,  0.77386935,  0.79396985,\n",
       "        0.81407035,  0.83417085,  0.85427136,  0.87437186,  0.89447236,\n",
       "        0.91457286,  0.93467337,  0.95477387,  0.97487437,  0.99497487,\n",
       "        1.01507538,  1.03517588,  1.05527638,  1.07537688,  1.09547739,\n",
       "        1.11557789,  1.13567839,  1.15577889,  1.1758794 ,  1.1959799 ,\n",
       "        1.2160804 ,  1.2361809 ,  1.25628141,  1.27638191,  1.29648241,\n",
       "        1.31658291,  1.33668342,  1.35678392,  1.37688442,  1.39698492,\n",
       "        1.41708543,  1.43718593,  1.45728643,  1.47738693,  1.49748744,\n",
       "        1.51758794,  1.53768844,  1.55778894,  1.57788945,  1.59798995,\n",
       "        1.61809045,  1.63819095,  1.65829146,  1.67839196,  1.69849246,\n",
       "        1.71859296,  1.73869347,  1.75879397,  1.77889447,  1.79899497,\n",
       "        1.81909548,  1.83919598,  1.85929648,  1.87939698,  1.89949749,\n",
       "        1.91959799,  1.93969849,  1.95979899,  1.9798995 ,  2.        ])"
      ]
     },
     "execution_count": 2,
     "metadata": {},
     "output_type": "execute_result"
    }
   ],
   "source": [
    "X_entrada"
   ]
  },
  {
   "cell_type": "code",
   "execution_count": 3,
   "metadata": {},
   "outputs": [
    {
     "data": {
      "text/plain": [
       "array([-1.68954388, -1.90746255, -1.36545694, -1.60437749, -1.95134125,\n",
       "       -2.31929309, -0.98063253, -2.23009013, -0.39985902, -1.79445877,\n",
       "       -1.5998793 , -1.65369769, -2.23775863, -0.58740716, -2.90094871,\n",
       "       -2.48407045, -1.92095931, -2.80146497, -2.59945934, -1.37674778,\n",
       "       -0.23068631, -2.44552637, -2.43563391, -0.55761157, -1.54324838,\n",
       "       -1.28644369,  0.66986198, -1.58430176, -0.47168886, -0.89845724,\n",
       "       -1.3965407 , -1.08003454, -1.42286763, -2.40670036,  0.48247578,\n",
       "       -1.61760783, -0.81014472, -1.85433178, -1.4640802 , -2.06693877,\n",
       "       -0.55316273, -2.09936199, -0.5635326 , -1.58011936, -1.09466268,\n",
       "       -0.34577962, -1.72769509, -2.12122075, -0.93790388, -1.735794  ,\n",
       "       -1.33536885, -1.7646983 , -0.81169778, -1.36297559,  1.58513722,\n",
       "        0.48009944, -0.64057836, -2.12126502,  0.09755338, -0.63334639,\n",
       "       -1.13073763,  0.14038491, -2.60366455, -0.50018375, -2.80518077,\n",
       "       -0.39834658, -1.03585216, -1.59486518,  0.29242311, -1.13568496,\n",
       "       -1.22857877,  0.43236083,  0.0992936 , -2.96172016, -1.05858311,\n",
       "       -1.57055943, -0.77352642, -1.15249905, -0.0086742 ,  0.6285751 ,\n",
       "        1.30828212, -0.46835872, -2.0947008 , -0.45442142, -0.90033031,\n",
       "       -0.15777983,  0.33887251, -0.25827725,  0.37866134,  1.09897259,\n",
       "       -0.51340699, -1.68080992,  0.87287888, -0.65677651,  0.73902319,\n",
       "        0.43604567, -1.0161999 , -0.7970445 ,  1.13587979,  0.43235411,\n",
       "        0.25798943,  0.93471629, -0.76608263,  0.35321131,  0.73263472,\n",
       "       -1.37854414, -1.13087406,  0.32462634, -0.1052983 , -1.398154  ,\n",
       "       -0.67460863,  1.61512474, -0.97671213,  0.73143037,  0.87773055,\n",
       "       -1.05452915,  0.47148209, -0.87750586,  1.11527794,  0.84144507,\n",
       "        0.31422393,  1.18877617,  1.51263224,  0.79955528,  0.02704024,\n",
       "        0.79485273,  0.92219187, -0.31326076,  2.58879738,  0.5316275 ,\n",
       "        0.38203544,  0.82490628,  0.81438684, -1.31693842,  2.91419712,\n",
       "       -0.58466131,  0.99750665,  0.81932981, -1.00041632,  1.74317481,\n",
       "        0.50824707,  0.36227766,  2.518923  ,  0.31919358,  0.5870277 ,\n",
       "        0.44855381,  2.10729225,  0.94614295,  1.28035786, -0.95752761,\n",
       "        0.14378765,  2.39589471, -0.31017389, -0.944537  , -0.03529089,\n",
       "        2.75079809,  1.84820944,  1.15423793,  0.7993718 ,  1.9272558 ,\n",
       "        2.28581285, -1.45186847,  3.44668138,  0.02443895,  1.61846744,\n",
       "       -0.45938434,  2.20216802,  2.06401273,  2.78751766,  0.23895478,\n",
       "        2.02141345,  1.34094395,  2.27407844,  1.37811402,  2.66732512,\n",
       "        2.96052329,  0.26083258,  2.27816594,  2.37857203,  3.12047082,\n",
       "        1.20370738,  1.24160974,  0.70930871,  2.06516983,  2.39292002,\n",
       "        2.70166305,  2.81535557,  1.18556666,  0.74180925,  0.53645717,\n",
       "        0.36956146,  1.94621308,  2.20393077,  0.62050278,  2.04442833,\n",
       "        1.82141386,  0.78244582,  1.51069106,  2.48894595, -0.21921887])"
      ]
     },
     "execution_count": 3,
     "metadata": {},
     "output_type": "execute_result"
    }
   ],
   "source": [
    "y_saida"
   ]
  },
  {
   "cell_type": "code",
   "execution_count": null,
   "metadata": {},
   "outputs": [],
   "source": [
    "# Algoritmo\n",
    "\n",
    "# Matriz de 1s para servir como as previsões\n",
    "\n",
    "\n",
    "# Convertendo as variáveis para matrizes NumPy\n",
    "\n",
    "\n",
    "# Print shapes\n",
    "\n",
    "\n",
    "# Encontrando a transposta das matrizes e aplicando o dot product\n",
    "\n",
    "\n",
    "# Print shapes\n",
    "\n",
    "\n",
    "# Inversa\n",
    "\n",
    "\n",
    "# Coeficientes\n",
    "w, b = solution\n",
    "\n",
    "# Previsões\n",
    "y_pred = w[0]*X_entrada + b[0]\n",
    "print(y_pred)\n",
    "\n",
    "# Plot\n",
    "plt.plot(X_entrada, y_saida, 'r*', label='Dados')\n",
    "plt.plot(X_entrada, y_pred, 'b', label='Linha de Regressão - Previsões NumPy')\n",
    "plt.legend(loc=\"upper left\", bbox_to_anchor=(1,1))"
   ]
  },
  {
   "attachments": {},
   "cell_type": "markdown",
   "metadata": {},
   "source": [
    "### Exercício 10 (Super Desafio) - Mesmo exercício anterior, mas agora com o TensorFlow.\n",
    "\n",
    "Dica: Deixamos algumas linhas de código para ajudá-lo nesta tarefa."
   ]
  },
  {
   "cell_type": "code",
   "execution_count": null,
   "metadata": {},
   "outputs": [],
   "source": [
    "# Solução\n",
    "\n",
    "# Import\n",
    "import tensorflow as tf\n",
    "\n",
    "# Variáveis x e y\n",
    "num_points = 200\n",
    "X_entrada = np.linspace(-2, 2, num_points)\n",
    "y_saida = X_entrada + np.random.normal(0, 1, num_points)\n",
    "\n",
    "# Matrizes (tensores com o TF)\n",
    "X_tensor = tf.constant(X_matrix)\n",
    "y_tensor = tf.constant(y_matrix)\n",
    "\n",
    "# Transposta\n",
    "\n",
    "\n",
    "# Solução\n",
    "\n",
    "\n",
    "# Abre a sessão TF\n",
    "\n",
    "\n",
    "# Encontra os coeficeintes\n",
    "w_tf, b_tf = soln_tf\n",
    "\n",
    "# Previsões\n",
    "y_pred_tf = w_tf[0]*X_entrada + b_tf[0]\n",
    "\n",
    "# Plot\n",
    "plt.plot(X_entrada, y_saida, 'r*', label='Dados')\n",
    "plt.plot(X_entrada, y_pred, 'b', label='Linha de Regressão - Previsões NumPy')\n",
    "plt.plot(X_entrada, y_pred_tf, 'g', label='Linha de Regressão - Previsões TF')\n",
    "plt.legend(loc=\"upper left\", bbox_to_anchor=(1,1))"
   ]
  },
  {
   "attachments": {},
   "cell_type": "markdown",
   "metadata": {},
   "source": [
    "## Fim"
   ]
  }
 ],
 "metadata": {
  "kernelspec": {
   "display_name": "Python 3",
   "language": "python",
   "name": "python3"
  },
  "language_info": {
   "codemirror_mode": {
    "name": "ipython",
    "version": 3
   },
   "file_extension": ".py",
   "mimetype": "text/x-python",
   "name": "python",
   "nbconvert_exporter": "python",
   "pygments_lexer": "ipython3",
   "version": "3.10.9"
  }
 },
 "nbformat": 4,
 "nbformat_minor": 2
}
