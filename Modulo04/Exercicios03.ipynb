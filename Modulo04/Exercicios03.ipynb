{
 "cells": [
  {
   "attachments": {},
   "cell_type": "markdown",
   "metadata": {},
   "source": [
    "# <font color='blue'>Data Science Academy</font>\n",
    "# <font color='blue'>Matemática Para Machine Learning</font>"
   ]
  },
  {
   "attachments": {},
   "cell_type": "markdown",
   "metadata": {},
   "source": [
    "## Lista de Exercícios  - Capítulo 4"
   ]
  },
  {
   "attachments": {},
   "cell_type": "markdown",
   "metadata": {},
   "source": [
    "O objetivo desta lista de exercícios é você praticar os principais conceitos estudados neste capítulo, ao mesmo tempo que desenvolve suas habilidades em lógica de programação com a linguagem Python. \n",
    "\n",
    "Caso tenha dúvidas, isso é absolutamente normal e faça um trabalho de pesquisa a fim de relembrar o formato das operações matemáticas.\n",
    "\n",
    "Quando encontrar o formato de uma operação que resolva o exercício proposto, use a linguagem Python para representar esta operação. Em essência, é assim que aplicamos Matemática Para Machine Learning, construindo algoritmos e representando esses algoritmos em linguagem de programação."
   ]
  },
  {
   "attachments": {},
   "cell_type": "markdown",
   "metadata": {},
   "source": [
    "A maioria das pessoas considera a Matemática e a Física, assustadoras bestas das quais é melhor manter a distância. Computadores, no entanto, podem nos ajudar a domar a complexidade e a aritmética tediosa das manipulações associadas a esses assuntos. De fato, Matemática e Física são muito mais acessíveis, uma vez que você tem o poder de computadores do seu lado.\n",
    "\n",
    "Divirta-se!!"
   ]
  },
  {
   "attachments": {},
   "cell_type": "markdown",
   "metadata": {},
   "source": [
    "### Exercício 1 - Considerando os vetores v [1, 2] e w [2, 1], crie um script Python que faça a soma dos vetores. Não use funções de pacotes prontos, somente a linguagem Python pura e suas funções, se necessário.\n",
    "\n",
    "Dica: A função zip() pode ajudá-lo."
   ]
  },
  {
   "cell_type": "code",
   "execution_count": 1,
   "metadata": {},
   "outputs": [
    {
     "name": "stdout",
     "output_type": "stream",
     "text": [
      "[3, 3]\n"
     ]
    }
   ],
   "source": [
    "# Solução\n",
    "\n",
    "vetor1 = [1, 2]\n",
    "vetor2 = [2, 1]\n",
    "\n",
    "if len(vetor1) == len(vetor2):\n",
    "    vetor3 = []\n",
    "    for i in range(0,len(vetor1)):\n",
    "        vetor3.append(vetor1[i] + vetor2[i])\n",
    "print(vetor3)\n",
    "\n"
   ]
  },
  {
   "attachments": {},
   "cell_type": "markdown",
   "metadata": {},
   "source": [
    "### Exercício 2 - Considerando os vetores v [1, 2] e w [2, 1], crie um script Python que faça a subtração dos vetores. Não use funções de pacotes prontos, somente a linguagem Python pura e suas funções, se necessário.\n",
    "\n",
    "Dica: A função zip() pode ajudá-lo."
   ]
  },
  {
   "cell_type": "code",
   "execution_count": 4,
   "metadata": {},
   "outputs": [
    {
     "name": "stdout",
     "output_type": "stream",
     "text": [
      "[-1, 1]\n"
     ]
    }
   ],
   "source": [
    "# Solução\n",
    "\n",
    "vetor1 = [1, 2]\n",
    "vetor2 = [2, 1]\n",
    "\n",
    "if len(vetor1) == len(vetor2):\n",
    "    vetor3 = []\n",
    "    for i in range(0,len(vetor1)):\n",
    "        vetor3.append(vetor1[i] - vetor2[i])\n",
    "print(vetor3)\n"
   ]
  },
  {
   "attachments": {},
   "cell_type": "markdown",
   "metadata": {},
   "source": [
    "### Exercício 3 - Considerando o escalar e vetor abaixo, crie uma função que receba os 2 como parâmetro e multiplique o vetor pelo escalar. Use apenas Python puro.\n",
    "\n",
    "Dica: List Comprehension pode ajudá-lo aqui. O curso de Python Fundamentos oferece exemplos deste recurso."
   ]
  },
  {
   "cell_type": "code",
   "execution_count": 7,
   "metadata": {},
   "outputs": [
    {
     "name": "stdout",
     "output_type": "stream",
     "text": [
      "[3, 6, 9]\n"
     ]
    }
   ],
   "source": [
    "# Solução\n",
    "\n",
    "def SumEscalarInList(escalar, list):\n",
    "    newList = [item*escalar for item in list]\n",
    "    print(newList)\n",
    "\n",
    "\n",
    "num = 3\n",
    "vetor = [1, 2, 3]\n",
    "SumEscalarInList(num,vetor)\n"
   ]
  },
  {
   "attachments": {},
   "cell_type": "markdown",
   "metadata": {},
   "source": [
    "### Exercício 4 - Considerando os 2 vetores abaixo, crie uma função Python que faça o dot product entre os 2 vetores e retorne apenas um valor escalar."
   ]
  },
  {
   "cell_type": "code",
   "execution_count": 3,
   "metadata": {},
   "outputs": [
    {
     "name": "stdout",
     "output_type": "stream",
     "text": [
      "[2, 2]\n",
      "4\n"
     ]
    }
   ],
   "source": [
    "# Solução\n",
    "\n",
    "vetor1 = [1, 2]\n",
    "vetor2 = [2, 1]\n",
    "if len(vetor1) == len(vetor2):\n",
    "    vetor3 = []\n",
    "    dotPr = 0\n",
    "    for i in range(0,len(vetor1)):\n",
    "        vetor3.append(vetor1[i] * vetor2[i])\n",
    "        dotPr += vetor3[i]\n",
    "print(vetor3)\n",
    "print(dotPr)\n",
    "\n"
   ]
  },
  {
   "attachments": {},
   "cell_type": "markdown",
   "metadata": {},
   "source": [
    "### Exercício 5 - Resolva o exercício anterior usando a função dot() do NumPy"
   ]
  },
  {
   "cell_type": "code",
   "execution_count": 4,
   "metadata": {},
   "outputs": [
    {
     "name": "stdout",
     "output_type": "stream",
     "text": [
      "4\n"
     ]
    }
   ],
   "source": [
    "# Solução\n",
    "\n",
    "import numpy as np\n",
    "\n",
    "vetor1 = [1, 2]\n",
    "vetor2 = [2, 1]\n",
    "\n",
    "dotPr = np.dot(vetor1,vetor2)\n",
    "print(dotPr)"
   ]
  },
  {
   "attachments": {},
   "cell_type": "markdown",
   "metadata": {},
   "source": [
    "### Exercício 6 - Crie uma lista em Python com 3 dimensões, preenchida com zeros.\n",
    "\n",
    "Dica: a função pprint do pacote pprint permite imprimir uma lista tridimensional de forma mais legível."
   ]
  },
  {
   "cell_type": "code",
   "execution_count": 13,
   "metadata": {},
   "outputs": [
    {
     "name": "stdout",
     "output_type": "stream",
     "text": [
      "[[[1, 2, 3], [5, 7, 9], [7, 6, 3]],\n",
      " [[5, 9, 8], [6, 5, 1], [7, 2, 3]],\n",
      " [[9, 7, 3], [2, 1, 3], [9, 7, 1]]]\n"
     ]
    }
   ],
   "source": [
    "# Solução\n",
    "\n",
    "import pprint\n",
    "lista = [[[1,2,3],[5,7,9],[7,6,3]],[[5,9,8],[6,5,1],[7,2,3]],[[9,7,3],[2,1,3],[9,7,1]]]\n",
    "pprint.pprint(lista)"
   ]
  },
  {
   "attachments": {},
   "cell_type": "markdown",
   "metadata": {},
   "source": [
    "### Exercício 7 - Considerando o vetor criado no item anterior, altere o valor na posição nas coordenadas (2, 1, 0) para 92."
   ]
  },
  {
   "cell_type": "code",
   "execution_count": 14,
   "metadata": {},
   "outputs": [
    {
     "name": "stdout",
     "output_type": "stream",
     "text": [
      "[[[1, 2, 3], [5, 7, 9], [7, 6, 3]],\n",
      " [[5, 9, 8], [6, 5, 1], [7, 2, 3]],\n",
      " [[9, 7, 3], [92, 1, 3], [9, 7, 1]]]\n"
     ]
    }
   ],
   "source": [
    "# Solução\n",
    "import pprint\n",
    "lista = [[[1,2,3],[5,7,9],[7,6,3]],[[5,9,8],[6,5,1],[7,2,3]],[[9,7,3],[2,1,3],[9,7,1]]]\n",
    "lista[2][1][0] = 92\n",
    "pprint.pprint(lista)\n"
   ]
  },
  {
   "attachments": {},
   "cell_type": "markdown",
   "metadata": {},
   "source": [
    "### Exercício 8 - Considere o vetor multidimensional A abaixo. Transforme-o em um vetor de uma única dimensão, com todos os elementos ordenados na mesma sequência do vetor original.\n",
    "\n",
    "Dica: Esta operação é chamada de flatten do vetor (algo como \"achatar\" um vetor), sendo uma das operações de pré-processamento mais comum em modelos de Deep Learning para Visão Computacional. NumPy oferece uma função para isso."
   ]
  },
  {
   "cell_type": "code",
   "execution_count": 18,
   "metadata": {},
   "outputs": [
    {
     "name": "stdout",
     "output_type": "stream",
     "text": [
      "\n",
      "Vetor multidimensional original:\n",
      "\n",
      " [[[ 0  1]\n",
      "  [ 2  3]\n",
      "  [ 4  5]\n",
      "  [ 6  7]]\n",
      "\n",
      " [[ 8  9]\n",
      "  [10 11]\n",
      "  [12 13]\n",
      "  [14 15]]\n",
      "\n",
      " [[16 17]\n",
      "  [18 19]\n",
      "  [20 21]\n",
      "  [22 23]]]\n",
      "[ 0  1  2  3  4  5  6  7  8  9 10 11 12 13 14 15 16 17 18 19 20 21 22 23]\n"
     ]
    }
   ],
   "source": [
    "# Solução\n",
    "\n",
    "import numpy as np\n",
    "\n",
    "A = np.array([[[ 0,  1],\n",
    "               [ 2,  3],\n",
    "               [ 4,  5],\n",
    "               [ 6,  7]],\n",
    "              [[ 8,  9],\n",
    "               [10, 11],\n",
    "               [12, 13],\n",
    "               [14, 15]],\n",
    "              [[16, 17],\n",
    "               [18, 19],\n",
    "               [20, 21],\n",
    "               [22, 23]]])\n",
    "\n",
    "print(\"\\nVetor multidimensional original:\\n\\n\", A)\n",
    "print(A.flatten())\n"
   ]
  },
  {
   "attachments": {},
   "cell_type": "markdown",
   "metadata": {},
   "source": [
    "### Exercício 9 - Considere o vetor multidimensional A abaixo. Transforme-o em um vetor de uma única dimensão, com todos os elementos ordenados na mesma sequência do vetor original. Use a função ravel() do NumPy."
   ]
  },
  {
   "attachments": {},
   "cell_type": "markdown",
   "metadata": {},
   "source": [
    "A função ravel() possui o parâmetro \"order\" que pode ser \"C\", \"F\", \"A\" ou \"K\". Qual a diferença entre usar os parâmetros C e F?"
   ]
  },
  {
   "cell_type": "code",
   "execution_count": 19,
   "metadata": {},
   "outputs": [
    {
     "name": "stdout",
     "output_type": "stream",
     "text": [
      "\n",
      "Vetor multidimensional original:\n",
      "\n",
      " [[[ 0  1]\n",
      "  [ 2  3]\n",
      "  [ 4  5]\n",
      "  [ 6  7]]\n",
      "\n",
      " [[ 8  9]\n",
      "  [10 11]\n",
      "  [12 13]\n",
      "  [14 15]]\n",
      "\n",
      " [[16 17]\n",
      "  [18 19]\n",
      "  [20 21]\n",
      "  [22 23]]]\n",
      "[ 0  1  2  3  4  5  6  7  8  9 10 11 12 13 14 15 16 17 18 19 20 21 22 23]\n"
     ]
    }
   ],
   "source": [
    "# Solução\n",
    "\n",
    "import numpy as np\n",
    "\n",
    "A = np.array([[[ 0,  1],\n",
    "               [ 2,  3],\n",
    "               [ 4,  5],\n",
    "               [ 6,  7]],\n",
    "              [[ 8,  9],\n",
    "               [10, 11],\n",
    "               [12, 13],\n",
    "               [14, 15]],\n",
    "              [[16, 17],\n",
    "               [18, 19],\n",
    "               [20, 21],\n",
    "               [22, 23]]])\n",
    "\n",
    "print(\"\\nVetor multidimensional original:\\n\\n\", A)\n",
    "print(np.ravel(A))\n",
    "# C ordena por coluna, F ordena por linha\n"
   ]
  },
  {
   "attachments": {},
   "cell_type": "markdown",
   "metadata": {},
   "source": [
    "### Exercício 10 - Calcule o Inner e Outer product dos vetores abaixo."
   ]
  },
  {
   "cell_type": "code",
   "execution_count": 1,
   "metadata": {},
   "outputs": [
    {
     "name": "stdout",
     "output_type": "stream",
     "text": [
      "4\n",
      "[[2 1]\n",
      " [4 2]]\n"
     ]
    }
   ],
   "source": [
    "# Solução\n",
    "\n",
    "import numpy as np\n",
    "\n",
    "vetor1 = [1, 2]\n",
    "vetor2 = [2, 1]\n",
    "\n",
    "inner = np.dot(vetor1,vetor2)\n",
    "outer = np.outer(vetor1,vetor2)\n",
    "print(inner)\n",
    "print(outer)\n"
   ]
  },
  {
   "attachments": {},
   "cell_type": "markdown",
   "metadata": {},
   "source": [
    "## Fim"
   ]
  }
 ],
 "metadata": {
  "kernelspec": {
   "display_name": "Python 3",
   "language": "python",
   "name": "python3"
  },
  "language_info": {
   "codemirror_mode": {
    "name": "ipython",
    "version": 3
   },
   "file_extension": ".py",
   "mimetype": "text/x-python",
   "name": "python",
   "nbconvert_exporter": "python",
   "pygments_lexer": "ipython3",
   "version": "3.10.9"
  }
 },
 "nbformat": 4,
 "nbformat_minor": 2
}
