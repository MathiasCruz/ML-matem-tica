{
 "cells": [
  {
   "cell_type": "markdown",
   "metadata": {},
   "source": [
    "# <font color='blue'>Data Science Academy</font>\n",
    "# <font color='blue'>Matemática Para Machine Learning</font>"
   ]
  },
  {
   "cell_type": "markdown",
   "metadata": {},
   "source": [
    "## Lista de Exercícios  - Capítulo 2"
   ]
  },
  {
   "cell_type": "markdown",
   "metadata": {},
   "source": [
    "O objetivo desta lista de exercícios é você praticar os principais conceitos estudados neste capítulo, ao mesmo tempo que desenvolve suas habilidades em lógica de programação com a linguagem Python. \n",
    "\n",
    "Caso tenha dúvidas, isso é absolutamente normal e faça um trabalho de pesquisa a fim de relembrar o formato das operações matemáticas.\n",
    "\n",
    "Quando encontrar o formato de uma operação que resolva o exercício proposto, use a linguagem Python para representar esta operação. Em essência, é assim que aplicamos Matemática Para Machine Learning, construindo algoritmos e representando esses algoritmos em linguagem de programação.\n",
    "\n",
    "Divirta-se!!"
   ]
  },
  {
   "cell_type": "markdown",
   "metadata": {},
   "source": [
    "## Resolvendo Sistemas de Equações em Python"
   ]
  },
  {
   "cell_type": "markdown",
   "metadata": {},
   "source": [
    "Usando numpy, podemos resolver sistemas de equações em Python. Cada equação em um sistema pode ser representada com matrizes. Por exemplo, se tivermos a equação 3x - 9y = -42, ela pode ser representada como [3, -9] e [-42]. Se adicionarmos outra equação, por exemplo, 2x + 4y = 2, podemos mesclar com a equação anterior para obter [[3, -9], [2, 4]] e [-42, 2]. Agora vamos resolver os valores x e y.\n",
    "\n",
    "Primeiro, colocamos essas equações em matrizes numpy:"
   ]
  },
  {
   "cell_type": "code",
   "execution_count": null,
   "metadata": {},
   "outputs": [],
   "source": [
    "import numpy as np\n",
    "\n",
    "A = np.array([ [3,-9], [2,4] ])\n",
    "b = np.array([-42,2])"
   ]
  },
  {
   "cell_type": "markdown",
   "metadata": {},
   "source": [
    "Depois, usamos a função linalg.solve() para resolver os valores x e y, assim:"
   ]
  },
  {
   "cell_type": "code",
   "execution_count": null,
   "metadata": {},
   "outputs": [],
   "source": [
    "x, y = np.linalg.solve(A,b)\n",
    "print(\"Os valores de x e y nas equações acima são, respectivamente:\", x, y)"
   ]
  },
  {
   "cell_type": "markdown",
   "metadata": {},
   "source": [
    "### Exercício 1 - Resolva o sistema de equações:\n",
    "\n",
    "# 1x + 1y = 35\n",
    "# 2x + 4y = 94"
   ]
  },
  {
   "cell_type": "code",
   "execution_count": null,
   "metadata": {},
   "outputs": [],
   "source": [
    "# Solução\n",
    "import numpy as np\n",
    "\n",
    "A = np.array([[1,1],[2,4]])\n",
    "B = np.array([35,94])\n",
    "\n",
    "x,y = np.linalg.solve(A, B)\n",
    "print(\"Os valores de x e y nas equações acima são, respectivamente:\", x, y)"
   ]
  },
  {
   "cell_type": "markdown",
   "metadata": {},
   "source": [
    "### Exercício 2 - Resolva a equação quadrática ax**2 + bx + c = 0 usando a fórmula matemática\n",
    "\n",
    "Dica 1: Solicite ao usuário que digite os valores dos 3 coeficientes da equação (a, b e c) e resolva os valores de x.\n",
    "\n",
    "Dica 2: Use a função sqrt() do pacote math\n",
    "\n",
    "Dica 3: Fique atento aos possíveis retornos da equação:\n",
    "\n",
    "- Se d < 0: Sem solução em ℝ\n",
    "- Se d = 0: A equação tem apenas uma solução em ℝ, x = −b2a\n",
    "- Se d > 0: A equação tem duas soluções, x1 e x2 "
   ]
  },
  {
   "cell_type": "code",
   "execution_count": null,
   "metadata": {},
   "outputs": [],
   "source": [
    "# Soluçãoimport sys\n",
    "import math\n",
    "a = int((input(\"Entre com o valor de A \")))\n",
    "b = int((input(\"Entre com o valor de B \")))\n",
    "c = int((input(\"Entre com o valor de C \")))\n",
    "\n",
    "x = ((a ** 2) + b)\n",
    "d = (c * -1)/x\n",
    "print(d)\n"
   ]
  },
  {
   "cell_type": "markdown",
   "metadata": {},
   "source": [
    "### Exercício 3 - Resolva a equação quadrática ax**2 + bx + c = 0, criando uma função Python que receba os 3 coeficientes como parâmetro"
   ]
  },
  {
   "cell_type": "code",
   "execution_count": null,
   "metadata": {},
   "outputs": [],
   "source": [
    "import sys\n",
    "import math\n",
    "\n",
    "def CalculateD(a,b,c):\n",
    "    x = ((a ** 2) + b)\n",
    "    d = (c * -1)/x\n",
    "    return d\n",
    "\n",
    "a = int((input(\"Entre com o valor de A \")))\n",
    "b = int((input(\"Entre com o valor de B \")))\n",
    "c = int((input(\"Entre com o valor de C \")))\n",
    "\n",
    "d = CalculateD(a, b, c)\n",
    "print(d)\n"
   ]
  },
  {
   "cell_type": "markdown",
   "metadata": {},
   "source": [
    "### Exercício 4 - Estude as funções matemáticas em Python no link:\n",
    "\n",
    "https://docs.python.org/3.6/library/math.html"
   ]
  },
  {
   "cell_type": "markdown",
   "metadata": {},
   "source": [
    "### Exercício 5 - Crie uma classe em Python para calcular um número elevado ao quadrado\n",
    "\n",
    "Dica: Para testar, instancie a classe em um objeto, passando o número como parâmetro"
   ]
  },
  {
   "cell_type": "code",
   "execution_count": null,
   "metadata": {},
   "outputs": [],
   "source": [
    "# Solução\n",
    "import sys\n",
    "import math\n",
    "\n",
    "class ForNumbers:\n",
    "    \n",
    "    def ElevateNumber(self,n):\n",
    "        x = (n ** 2)\n",
    "        return x\n",
    "\n",
    "number = ForNumbers()\n",
    "x = number.ElevateNumber(2)\n",
    "print(x)"
   ]
  },
  {
   "cell_type": "code",
   "execution_count": null,
   "metadata": {},
   "outputs": [],
   "source": []
  },
  {
   "cell_type": "code",
   "execution_count": null,
   "metadata": {},
   "outputs": [],
   "source": []
  },
  {
   "cell_type": "code",
   "execution_count": null,
   "metadata": {},
   "outputs": [],
   "source": []
  },
  {
   "cell_type": "markdown",
   "metadata": {},
   "source": [
    "### Exercício 6 - Crie uma função em Python para resolver a equação quadrática ax**2 + bx + c = 0, aplicando tratamento de erros"
   ]
  },
  {
   "cell_type": "code",
   "execution_count": null,
   "metadata": {},
   "outputs": [],
   "source": [
    "import sys\n",
    "import math\n",
    "\n",
    "def CalculateD(a,b,c):\n",
    "    x = ((a ** 2) + b)\n",
    "    d = (c * -1)/x\n",
    "    return d\n",
    "try:\n",
    "    \n",
    "    a = int((input(\"Entre com o valor de A \")))\n",
    "    b = int((input(\"Entre com o valor de B \")))\n",
    "    c = int((input(\"Entre com o valor de C \")))\n",
    "    d = CalculateD(a, b, c)\n",
    "except Exception as ex:\n",
    "    print(\"Entre com um valor numérico válido\",ex)\n",
    "print(d)\n",
    "\n",
    "\n"
   ]
  },
  {
   "cell_type": "code",
   "execution_count": null,
   "metadata": {},
   "outputs": [],
   "source": []
  },
  {
   "cell_type": "markdown",
   "metadata": {},
   "source": [
    "### Exercício 7 - Crie um Plot com a linha que representa a função linear\n",
    "\n",
    "Dica 1: Função linear y = mx + b  / y = ax + b"
   ]
  },
  {
   "cell_type": "code",
   "execution_count": 2,
   "metadata": {},
   "outputs": [
    {
     "data": {
      "image/png": "[encoded data removed]",
      "text/plain": [
       "<Figure size 640x480 with 1 Axes>"
      ]
     },
     "metadata": {},
     "output_type": "display_data"
    }
   ],
   "source": [
    "import matplotlib.pyplot as plt\n",
    "\n",
    "def PrintPlot(x,y):\n",
    "    plt.plot(x, y, color='red', marker='o', linestyle='dashed',\n",
    "     linewidth=2, markersize=12)\n",
    "     \n",
    "x = 2\n",
    "a = 2\n",
    "y = (a*x) +2\n",
    "\n",
    "PrintPlot(x, y)\n"
   ]
  },
  {
   "cell_type": "markdown",
   "metadata": {},
   "source": [
    "### Exercício 8 - Crie um Plot com a Parabola que representa a função quadrática"
   ]
  },
  {
   "cell_type": "code",
   "execution_count": 3,
   "metadata": {},
   "outputs": [
    {
     "data": {
      "image/png": "[encoded data removed]",
      "text/plain": [
       "<Figure size 640x480 with 1 Axes>"
      ]
     },
     "metadata": {},
     "output_type": "display_data"
    }
   ],
   "source": [
    "import matplotlib.pyplot as plt\n",
    "import numpy as np\n",
    "\n",
    "def PrintPlot(x,y):\n",
    "    plt.plot(x, y,'r')\n",
    "     \n",
    "x = np.linspace(-5,5,100)\n",
    "y = x ** 2\n",
    "\n",
    "PrintPlot(x, y)\n"
   ]
  },
  {
   "cell_type": "markdown",
   "metadata": {},
   "source": [
    "## Desafio - Questões 9 e 10"
   ]
  },
  {
   "cell_type": "markdown",
   "metadata": {},
   "source": [
    "### Exercício 9 - Crie uma função que calcule o slope e o intercepto (coeficientes m e b) da função linear estudada nas aulas anteriores, calcule e desenhe a linha que representa a função\n",
    "\n",
    "Dica 1: Use dados dummy para x e y\n",
    "\n",
    "Dica 2: A fórmula da função linear é y = mx+b"
   ]
  },
  {
   "cell_type": "code",
   "execution_count": null,
   "metadata": {},
   "outputs": [],
   "source": [
    "# Solução\n",
    "import matplotlib.pyplot as plt\n",
    "import numpy as np\n",
    "\n",
    "def PrintPlot(x,y):\n",
    "    plt.plot(x, y,'r')\n",
    "     \n",
    "x = np.linspace(5,10)\n",
    "m = np.linspace(2,10)\n",
    "b =  np.linspace(8,20)\n",
    "y = (m * x )+ b\n",
    "\n",
    "PrintPlot(x, y)"
   ]
  },
  {
   "cell_type": "code",
   "execution_count": null,
   "metadata": {},
   "outputs": [],
   "source": [
    "# Calcula a linha usando list comprehension\n"
   ]
  },
  {
   "cell_type": "code",
   "execution_count": null,
   "metadata": {},
   "outputs": [],
   "source": [
    "def PrintPlot(x,y):\n",
    "    plt.plot(x, y,'r')\n"
   ]
  },
  {
   "cell_type": "markdown",
   "metadata": {},
   "source": [
    "### Exercício 10 - Defina um novo valor de x e encontre o y correspondente"
   ]
  },
  {
   "cell_type": "code",
   "execution_count": null,
   "metadata": {},
   "outputs": [],
   "source": [
    "\n",
    "import matplotlib.pyplot as plt\n",
    "import numpy as np\n",
    "\n",
    "def PrintPlot(x,y):\n",
    "    plt.plot(x, y,'r')\n",
    "     \n",
    "x = np.linspace(9,15)\n",
    "m = np.linspace(2,10)\n",
    "b =  np.linspace(8,20)\n",
    "y = (m * x )+ b\n",
    "\n",
    "PrintPlot(x, y)\n",
    "\n"
   ]
  },
  {
   "cell_type": "code",
   "execution_count": null,
   "metadata": {},
   "outputs": [],
   "source": [
    "# Prevendo o valor de y\n"
   ]
  },
  {
   "cell_type": "code",
   "execution_count": null,
   "metadata": {},
   "outputs": [],
   "source": [
    "# Plot\n"
   ]
  },
  {
   "cell_type": "markdown",
   "metadata": {},
   "source": [
    "## Fim"
   ]
  }
 ],
 "metadata": {
  "kernelspec": {
   "display_name": "Python 3 (ipykernel)",
   "language": "python",
   "name": "python3"
  },
  "language_info": {
   "codemirror_mode": {
    "name": "ipython",
    "version": 3
   },
   "file_extension": ".py",
   "mimetype": "text/x-python",
   "name": "python",
   "nbconvert_exporter": "python",
   "pygments_lexer": "ipython3",
   "version": "3.12.0"
  }
 },
 "nbformat": 4,
 "nbformat_minor": 2
}
